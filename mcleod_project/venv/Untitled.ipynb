{
 "cells": [
  {
   "cell_type": "code",
   "execution_count": 17,
   "metadata": {
    "scrolled": true
   },
   "outputs": [],
   "source": [
    "import pandas as pd\n",
    "import numpy as np\n",
    "import pymysql as mysql\n",
    "import matplotlib.pyplot as plt\n",
    "\n",
    "db_connection = mysql.connect(host= 'vps11426.inmotionhosting.com', database = 'mcleod', user = 'dojha', password = 'dOjha1458')\n",
    "\n",
    "df = pd.read_sql(\"select * from stops inner join movement on stops.id= movement.destStopId where year(stops.actualArrival)= '2018'\", con = db_connection)\n",
    "\n"
   ]
  },
  {
   "cell_type": "code",
   "execution_count": 4,
   "metadata": {},
   "outputs": [
    {
     "data": {
      "text/plain": [
       "Index(['companyId', 'actualArrival', 'actualDeparture', 'address',\n",
       "       'apptRequired', 'cityId', 'cityName', 'confirmed', 'driverLoadUnload',\n",
       "       'id', 'latitude', 'locationId', 'locationName', 'longitude',\n",
       "       'manifestFgpUid', 'movementId', 'movementSequence', 'orderId',\n",
       "       'orderSequence', 'requestedService', 'schedArriveEarly',\n",
       "       'schedArriveLate', 'state', 'status', 'stopType', 'txlUid', 'zipcode',\n",
       "       'zoneId', 'statusDescription', 'typeDescription',\n",
       "       'loadUnloadDescription', 'groupingKey', 'companyId', 'authorized',\n",
       "       'brokerage', 'brokerageStatus', 'destStopId', 'fuelDistance',\n",
       "       'fuelDistanceUom', 'id', 'loaded', 'ltl', 'maxBuyBaseAmount',\n",
       "       'maxBuyConversionDate', 'maxBuyCurrency', 'maxBuyConversionRate',\n",
       "       'maxBuyValue', 'maxPayMethod', 'maxPayUnits', 'missedCallSent',\n",
       "       'moveDistance', 'moveDistanceUom', 'movementType', 'originStopId',\n",
       "       'reminderSent', 'status', 'targetPayBaseAmount',\n",
       "       'targetPayConversionDate', 'targetPayCurrency',\n",
       "       'targetPayConversionRate', 'targetPayValue', 'targetPayMethod',\n",
       "       'targetPayUnits', 'trpUid', 'estTollBaseAmount',\n",
       "       'estTollConversionDate', 'estTollCurrency', 'estTollConversionRate',\n",
       "       'estTollValue', 'statusDescription', 'brokerageStatusDescription',\n",
       "       'freightRevenue', 'otherRevenue', 'totalRevenue', 'otherPay',\n",
       "       'totalPay', 'profit', 'profitPercentage', 'dispatcherUserId',\n",
       "       'overridePayeeId', 'carrierContact', 'carrierEmail', 'carrierPhone',\n",
       "       'proNbr'],\n",
       "      dtype='object')"
      ]
     },
     "execution_count": 4,
     "metadata": {},
     "output_type": "execute_result"
    }
   ],
   "source": [
    "df.columns"
   ]
  },
  {
   "cell_type": "code",
   "execution_count": 11,
   "metadata": {},
   "outputs": [],
   "source": [
    "df = df.drop(columns=['companyId', 'actualDeparture', 'address', 'apptRequired', 'cityId', 'confirmed', 'driverLoadUnloaded', 'latitude',\n",
    "            'locationId', 'locationName', 'longitude', 'manifestFgUid', 'movementSequence', 'orderSequence', 'requestedService', 'schedArriveearly',\n",
    "            'schedArriveLate', 'stopType', 'txUid', 'zipCode', 'zoneId', 'statusDescription', 'typeDescription', 'loadUnloadDescription', 'groupingKey',\n",
    "            'companyId', 'authorized', 'brokerage', 'brokerageStatus', 'destStopId', 'fueldistanceUom', 'loaded', 'ltl', 'maxBuyBaseAmount', 'maxBuyConversionDate', 'maxBuyCurrency',\n",
    "            'maxBuyCoversionRate', 'maxBuyvalue', 'maxPayMethod', 'maxPayUnits', ' missedCallsent', 'moveDistanceUom', 'movementType', 'originStopId', \n",
    "            'reminderSent', 'status', 'targetPayBaseAmount', 'targetPayConversionDate', 'targetPayCurrency', 'targetPayConversionrate', 'targetPayMethod',\n",
    "            'targetPayUnits', 'trpUid', 'estTollBaseAmount', 'estTollConversionDate', 'estTollValue', 'statusDescription', 'brokerageStatusdescription',\n",
    "            'carrierContact', 'carrierEmail', 'carrierPhone', 'proNbr'], axis =1)"
   ]
  },
  {
   "cell_type": "code",
   "execution_count": null,
   "metadata": {},
   "outputs": [],
   "source": [
    "df= df.cumsum()"
   ]
  },
  {
   "cell_type": "code",
   "execution_count": null,
   "metadata": {},
   "outputs": [],
   "source": []
  },
  {
   "cell_type": "code",
   "execution_count": null,
   "metadata": {},
   "outputs": [],
   "source": []
  },
  {
   "cell_type": "code",
   "execution_count": null,
   "metadata": {},
   "outputs": [],
   "source": []
  }
 ],
 "metadata": {
  "kernelspec": {
   "display_name": "Python 3",
   "language": "python",
   "name": "python3"
  },
  "language_info": {
   "codemirror_mode": {
    "name": "ipython",
    "version": 3
   },
   "file_extension": ".py",
   "mimetype": "text/x-python",
   "name": "python",
   "nbconvert_exporter": "python",
   "pygments_lexer": "ipython3",
   "version": "3.6.5"
  }
 },
 "nbformat": 4,
 "nbformat_minor": 2
}
